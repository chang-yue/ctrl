{
 "cells": [
  {
   "cell_type": "code",
   "execution_count": null,
   "id": "5f40d03d",
   "metadata": {},
   "outputs": [],
   "source": [
    "# make_data.py\n",
    "\n",
    "\n",
    "# change cifar10/CIFAR10 to cifar100/CIFAR100"
   ]
  },
  {
   "cell_type": "code",
   "execution_count": null,
   "id": "e1c1a8bf",
   "metadata": {},
   "outputs": [],
   "source": [
    "# create_label_errors.ipynb, generate_commands.ipynb, and cifar100_evaluate.py\n",
    "\n",
    "\n",
    "# change lines in code block in ### to:\n",
    "\n",
    "dataset = 'cifar100'\n",
    "sparsities = [0, 30, 60]\n",
    "noise_rates = [0, 10, 20, 30]"
   ]
  },
  {
   "cell_type": "code",
   "execution_count": null,
   "id": "c93bacc5",
   "metadata": {},
   "outputs": [],
   "source": [
    "# cifar100_train.py, models, and cifar100_results.ipynb\n",
    "\n",
    "\n",
    "# same"
   ]
  },
  {
   "cell_type": "code",
   "execution_count": null,
   "id": "4f12878b",
   "metadata": {},
   "outputs": [],
   "source": [
    "# cifar100_mask.py\n",
    "\n",
    "\n",
    "# change lines in code block in ### to:\n",
    "\n",
    "dataset = 'cifar100'\n",
    "sparsities = [0, 30, 60]\n",
    "noise_rates = [0, 10, 20, 30]\n",
    "\n",
    "mask_score_alpha = 0.25\n",
    "\n",
    "threshold = 2*np.log(100)"
   ]
  }
 ],
 "metadata": {
  "kernelspec": {
   "display_name": "Python 3",
   "language": "python",
   "name": "python3"
  },
  "language_info": {
   "codemirror_mode": {
    "name": "ipython",
    "version": 3
   },
   "file_extension": ".py",
   "mimetype": "text/x-python",
   "name": "python",
   "nbconvert_exporter": "python",
   "pygments_lexer": "ipython3",
   "version": "3.8.8"
  }
 },
 "nbformat": 4,
 "nbformat_minor": 5
}
